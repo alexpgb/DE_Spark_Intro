{
 "cells": [
  {
   "cell_type": "code",
   "execution_count": null,
   "id": "ce3bd0b7",
   "metadata": {},
   "outputs": [],
   "source": [
    "# Условие: есть набор данных о продажах продуктов с информацией о дате продаж, категории продукта, количестве и выручке от продаж.\n",
    "# Используя Apache Spark, загрузите предоставленный набор данных в DataFrame (пример данных ниже).\n",
    "# 1. С использованием оконных функций, рассчитайте среднее выручки от продаж для каждой категории продукта.\n",
    "# 2. Примените операцию pivot для того, чтобы преобразовать полученные данные таким образом, \n",
    "# чтобы в качестве строк были категории продуктов,\n",
    "# в качестве столбцов были дни, \n",
    "# а значениями были средние значения выручки от продаж за соответствующий день"
   ]
  },
  {
   "cell_type": "code",
   "execution_count": 1,
   "id": "ff27d220",
   "metadata": {},
   "outputs": [],
   "source": [
    "import pyspark"
   ]
  },
  {
   "cell_type": "code",
   "execution_count": 29,
   "id": "43c51141",
   "metadata": {},
   "outputs": [],
   "source": [
    "from pyspark.sql import SparkSession\n",
    "from pyspark.sql.functions import sum, avg, when, max, month\n",
    "from pyspark.sql.functions import countDistinct, col, collect_list, rank, row_number, first, desc, round\n",
    "from pyspark.sql.window import Window\n",
    "import pandas as pd"
   ]
  },
  {
   "cell_type": "code",
   "execution_count": 3,
   "id": "fa72af33",
   "metadata": {},
   "outputs": [
    {
     "name": "stderr",
     "output_type": "stream",
     "text": [
      "24/04/21 09:25:16 WARN NativeCodeLoader: Unable to load native-hadoop library for your platform... using builtin-java classes where applicable\n",
      "Using Spark's default log4j profile: org/apache/spark/log4j-defaults.properties\n",
      "Setting default log level to \"WARN\".\n",
      "To adjust logging level use sc.setLogLevel(newLevel). For SparkR, use setLogLevel(newLevel).\n",
      "24/04/21 09:25:18 WARN Utils: Service 'SparkUI' could not bind on port 4040. Attempting port 4041.\n"
     ]
    }
   ],
   "source": [
    "spark = SparkSession.builder.appName('HomeWork#3').getOrCreate()"
   ]
  },
  {
   "cell_type": "code",
   "execution_count": 15,
   "id": "ec691503",
   "metadata": {},
   "outputs": [
    {
     "name": "stdout",
     "output_type": "stream",
     "text": [
      "+----------+-----------+--------+-------+\n",
      "|      date|   category|quantity|revenue|\n",
      "+----------+-----------+--------+-------+\n",
      "|2023-11-21|      Books|     200|  12000|\n",
      "|2023-11-21|Electronics|     110|  13000|\n",
      "|2023-11-20|      Books|     150|   9000|\n",
      "|2023-11-22|   Clothing|     320|  16000|\n",
      "|2023-11-20|Electronics|     100|  12000|\n",
      "|2023-11-22|      Books|     180|  10000|\n",
      "|2023-11-22|Electronics|     105|  12500|\n",
      "|2023-11-21|   Clothing|     280|  14000|\n",
      "|2023-11-20|   Clothing|     300|  15000|\n",
      "+----------+-----------+--------+-------+\n",
      "\n"
     ]
    }
   ],
   "source": [
    "data = {(\"2023-11-20\", \"Electronics\", 100, 12000),\n",
    "    (\"2023-11-21\", \"Electronics\", 110, 13000),\n",
    "    (\"2023-11-22\", \"Electronics\", 105, 12500),\n",
    "    (\"2023-11-20\", \"Clothing\", 300, 15000),\n",
    "    (\"2023-11-21\", \"Clothing\", 280, 14000),\n",
    "    (\"2023-11-22\", \"Clothing\", 320, 16000),\n",
    "    (\"2023-11-20\", \"Books\", 150, 9000),\n",
    "    (\"2023-11-21\", \"Books\", 200, 12000),\n",
    "    (\"2023-11-22\", \"Books\", 180, 10000)}\n",
    "columns = [\"date\", \"category\", \"quantity\", \"revenue\"]\n",
    "df = spark.createDataFrame(data=data, schema=columns)\n",
    "df.show()"
   ]
  },
  {
   "cell_type": "code",
   "execution_count": 16,
   "id": "84024c0e",
   "metadata": {},
   "outputs": [
    {
     "name": "stdout",
     "output_type": "stream",
     "text": [
      "root\n",
      " |-- date: string (nullable = true)\n",
      " |-- category: string (nullable = true)\n",
      " |-- quantity: long (nullable = true)\n",
      " |-- revenue: long (nullable = true)\n",
      "\n"
     ]
    }
   ],
   "source": [
    "df.printSchema()"
   ]
  },
  {
   "cell_type": "code",
   "execution_count": 17,
   "id": "9a692ef3",
   "metadata": {},
   "outputs": [
    {
     "name": "stdout",
     "output_type": "stream",
     "text": [
      "root\n",
      " |-- date: date (nullable = true)\n",
      " |-- category: string (nullable = true)\n",
      " |-- quantity: integer (nullable = true)\n",
      " |-- revenue: integer (nullable = true)\n",
      "\n"
     ]
    }
   ],
   "source": [
    "df = df.withColumn('quantity', col('quantity').cast('int'))\n",
    "df = df.withColumn('revenue', col('revenue').cast('int'))\n",
    "df = df.withColumn('date', col('date').cast('date'))\n",
    "df.printSchema()"
   ]
  },
  {
   "cell_type": "code",
   "execution_count": 9,
   "id": "1a885ae4",
   "metadata": {},
   "outputs": [],
   "source": [
    "# 1. С использованием оконных функций, рассчитайте среднее выручки от продаж для каждой категории продукта."
   ]
  },
  {
   "cell_type": "code",
   "execution_count": 26,
   "id": "7c2a0940",
   "metadata": {},
   "outputs": [
    {
     "name": "stderr",
     "output_type": "stream",
     "text": [
      "[Stage 25:=======================================================>(74 + 1) / 75]\r"
     ]
    },
    {
     "name": "stdout",
     "output_type": "stream",
     "text": [
      "+----------+-----------+--------+-------+-----------------------+\n",
      "|      date|   category|quantity|revenue|revenue_avg_by_category|\n",
      "+----------+-----------+--------+-------+-----------------------+\n",
      "|2023-11-21|Electronics|     110|  13000|                12500.0|\n",
      "|2023-11-20|Electronics|     100|  12000|                12500.0|\n",
      "|2023-11-22|Electronics|     105|  12500|                12500.0|\n",
      "|2023-11-22|   Clothing|     320|  16000|                15000.0|\n",
      "|2023-11-21|   Clothing|     280|  14000|                15000.0|\n",
      "|2023-11-20|   Clothing|     300|  15000|                15000.0|\n",
      "|2023-11-21|      Books|     200|  12000|               10333.33|\n",
      "|2023-11-20|      Books|     150|   9000|               10333.33|\n",
      "|2023-11-22|      Books|     180|  10000|               10333.33|\n",
      "+----------+-----------+--------+-------+-----------------------+\n",
      "\n"
     ]
    },
    {
     "name": "stderr",
     "output_type": "stream",
     "text": [
      "                                                                                \r"
     ]
    }
   ],
   "source": [
    "df.withColumn('revenue_avg_by_category', round(avg('revenue').over(Window.partitionBy('category')), 2)).show()"
   ]
  },
  {
   "cell_type": "code",
   "execution_count": 27,
   "id": "e3058526",
   "metadata": {},
   "outputs": [],
   "source": [
    "# 2. Примените операцию pivot для того, чтобы преобразовать полученные данные таким образом, \n",
    "# чтобы в качестве строк были категории продуктов,\n",
    "# в качестве столбцов были дни, \n",
    "# а значениями были средние значения выручки от продаж за соответствующий день"
   ]
  },
  {
   "cell_type": "code",
   "execution_count": 32,
   "id": "b3470d76",
   "metadata": {},
   "outputs": [
    {
     "name": "stderr",
     "output_type": "stream",
     "text": [
      "                                                                                \r"
     ]
    },
    {
     "name": "stdout",
     "output_type": "stream",
     "text": [
      "+-----------+----------+----------+----------+\n",
      "|   category|2023-11-20|2023-11-21|2023-11-22|\n",
      "+-----------+----------+----------+----------+\n",
      "|Electronics|   12000.0|   13000.0|   12500.0|\n",
      "|   Clothing|   15000.0|   14000.0|   16000.0|\n",
      "|      Books|    9000.0|   12000.0|   10000.0|\n",
      "+-----------+----------+----------+----------+\n",
      "\n"
     ]
    }
   ],
   "source": [
    "df.groupBy('category').pivot('date').agg(round(avg('revenue'),2)).show()"
   ]
  },
  {
   "cell_type": "code",
   "execution_count": null,
   "id": "5b9ee0e1",
   "metadata": {},
   "outputs": [],
   "source": []
  }
 ],
 "metadata": {
  "kernelspec": {
   "display_name": "Python 3 (ipykernel)",
   "language": "python",
   "name": "python3"
  },
  "language_info": {
   "codemirror_mode": {
    "name": "ipython",
    "version": 3
   },
   "file_extension": ".py",
   "mimetype": "text/x-python",
   "name": "python",
   "nbconvert_exporter": "python",
   "pygments_lexer": "ipython3",
   "version": "3.7.3"
  }
 },
 "nbformat": 4,
 "nbformat_minor": 5
}
