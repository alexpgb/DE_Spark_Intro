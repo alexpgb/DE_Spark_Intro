{
 "cells": [
  {
   "cell_type": "code",
   "execution_count": null,
   "id": "1c1f80cf",
   "metadata": {},
   "outputs": [],
   "source": [
    "# Условие: создайте csv файл с таким содержимым:\n",
    "# title,author,genre,sales,year\n",
    "# \"1984\", \"George Orwell\", \"Science Fiction\", 5000, 1949\n",
    "# \"The Lord of the Rings\", \"J.R.R. Tolkien\", \"Fantasy\", 3000, 1954\n",
    "# \"To Kill a Mockingbird\", \"Harper Lee\", \"Southern Gothic\", 4000, 1960\n",
    "# \"The Catcher in the Rye\", \"J.D. Salinger\", \"Novel\", 2000, 1951\n",
    "# \"The Great Gatsby\", \"F. Scott Fitzgerald\", \"Novel\", 4500, 1925\n",
    "\n",
    "# Задание:\n",
    "\n",
    "# — Используя Spark прочитайте данные из файла csv.\n",
    "# — Фильтруйте данные, чтобы оставить только книги, продажи которых превышают 3000 экземпляров.\n",
    "# — Сгруппируйте данные по жанру и вычислите общий объем продаж для каждого жанра.\n",
    "# — Отсортируйте данные по общему объему продаж в порядке убывания.\n",
    "# — Выведите результаты на экран."
   ]
  },
  {
   "cell_type": "code",
   "execution_count": 63,
   "id": "a4cb2db4",
   "metadata": {},
   "outputs": [],
   "source": [
    "from pyspark.sql import SparkSession\n",
    "from pyspark.sql.types import StructType,StructField, StringType, IntegerType\n",
    "import pyspark.sql.functions as F"
   ]
  },
  {
   "cell_type": "code",
   "execution_count": 5,
   "id": "e259041c",
   "metadata": {},
   "outputs": [],
   "source": [
    "spark = SparkSession.builder.appName('Seminar#5').getOrCreate()"
   ]
  },
  {
   "cell_type": "code",
   "execution_count": 14,
   "id": "97d7a98d",
   "metadata": {},
   "outputs": [],
   "source": [
    "# Создадим csv файл через Spark\n",
    "data =[(\"1984\", \"George Orwell\", \"Science Fiction\", 5000, 1949),\n",
    "       (\"The Lord of the Rings\", \"J.R.R. Tolkien\", \"Fantasy\", 3000, 1954),\n",
    "       (\"To Kill a Mockingbird\", \"Harper Lee\", \"Southern Gothic\", 4000, 1960),\n",
    "       (\"The Catcher in the Rye\", \"J.D. Salinger\", \"Novel\", 2000, 1951),\n",
    "       (\"The Great Gatsby\", \"F. Scott Fitzgerald\", \"Novel\", 4500, 1925)]\n",
    "# https://spark.apache.org/docs/latest/api/python/getting_started/quickstart_df.html\n",
    "# title,author,genre,sales,year\n",
    "schema=StructType([\n",
    "    StructField('title', StringType(), True),\\\n",
    "    StructField('author', StringType(), True),\\\n",
    "    StructField('genre', StringType(), True),\\\n",
    "    StructField('sales', IntegerType(), True),\\\n",
    "    StructField('year', IntegerType(), True),\\\n",
    "    ])\n",
    "df = spark.createDataFrame(data, schema=schema)"
   ]
  },
  {
   "cell_type": "code",
   "execution_count": 15,
   "id": "d48440a4",
   "metadata": {},
   "outputs": [
    {
     "name": "stdout",
     "output_type": "stream",
     "text": [
      "root\n",
      " |-- title: string (nullable = true)\n",
      " |-- author: string (nullable = true)\n",
      " |-- genre: string (nullable = true)\n",
      " |-- sales: integer (nullable = true)\n",
      " |-- year: integer (nullable = true)\n",
      "\n"
     ]
    }
   ],
   "source": [
    "df.printSchema()"
   ]
  },
  {
   "cell_type": "code",
   "execution_count": 44,
   "id": "0b6bd852",
   "metadata": {},
   "outputs": [],
   "source": [
    "df.repartition(1).write.format('csv').option('header',True).mode('overwrite').option('sep',',').save('./de_spark_intro_s5_hw.csv')\n",
    "# df.write.csv(\"./de_spark_intro_s5_hw.csv\", header=True)"
   ]
  },
  {
   "cell_type": "code",
   "execution_count": 50,
   "id": "b1e05617",
   "metadata": {},
   "outputs": [
    {
     "name": "stdout",
     "output_type": "stream",
     "text": [
      "total 4\n",
      "-rw-r--r-- 1 root root   0 Apr 28 19:08 _SUCCESS\n",
      "-rw-r--r-- 1 root root 295 Apr 28 19:08 part-00000-fc67dd90-4156-4275-8686-5b55c50e6b5c-c000.csv\n"
     ]
    }
   ],
   "source": [
    "# Немного неожиданное поведение: движок Spark сохраняем csv, как каталог, а не как файл.\n",
    "# Чтобы не было двух файлов, добавил repartition(1) при сохранении\n",
    "!ls -l ./de_spark_intro_s5_hw.csv"
   ]
  },
  {
   "cell_type": "code",
   "execution_count": 51,
   "id": "40535a8e",
   "metadata": {},
   "outputs": [
    {
     "name": "stdout",
     "output_type": "stream",
     "text": [
      "title,author,genre,sales,year\n",
      "1984,George Orwell,Science Fiction,5000,1949\n",
      "The Lord of the Rings,J.R.R. Tolkien,Fantasy,3000,1954\n",
      "To Kill a Mockingbird,Harper Lee,Southern Gothic,4000,1960\n",
      "The Catcher in the Rye,J.D. Salinger,Novel,2000,1951\n",
      "The Great Gatsby,F. Scott Fitzgerald,Novel,4500,1925\n"
     ]
    }
   ],
   "source": [
    "!cat ./de_spark_intro_s5_hw.csv/part-00000-fc67dd90-4156-4275-8686-5b55c50e6b5c-c000.csv"
   ]
  },
  {
   "cell_type": "code",
   "execution_count": null,
   "id": "47b8bd6c",
   "metadata": {},
   "outputs": [],
   "source": [
    "# — Используя Spark прочитайте данные из файла csv."
   ]
  },
  {
   "cell_type": "code",
   "execution_count": 45,
   "id": "4f44ed43",
   "metadata": {},
   "outputs": [],
   "source": [
    "df1 = spark.read.csv(\"./de_spark_intro_s5_hw.csv\", sep=\",\", inferSchema=True, header=True)"
   ]
  },
  {
   "cell_type": "code",
   "execution_count": 48,
   "id": "8820bd4e",
   "metadata": {},
   "outputs": [
    {
     "name": "stdout",
     "output_type": "stream",
     "text": [
      "+----------------------+-------------------+---------------+-----+----+\n",
      "|title                 |author             |genre          |sales|year|\n",
      "+----------------------+-------------------+---------------+-----+----+\n",
      "|1984                  |George Orwell      |Science Fiction|5000 |1949|\n",
      "|The Lord of the Rings |J.R.R. Tolkien     |Fantasy        |3000 |1954|\n",
      "|To Kill a Mockingbird |Harper Lee         |Southern Gothic|4000 |1960|\n",
      "|The Catcher in the Rye|J.D. Salinger      |Novel          |2000 |1951|\n",
      "|The Great Gatsby      |F. Scott Fitzgerald|Novel          |4500 |1925|\n",
      "+----------------------+-------------------+---------------+-----+----+\n",
      "\n"
     ]
    }
   ],
   "source": [
    "df1.show(truncate=False)"
   ]
  },
  {
   "cell_type": "code",
   "execution_count": 60,
   "id": "034ad9f7",
   "metadata": {},
   "outputs": [
    {
     "name": "stdout",
     "output_type": "stream",
     "text": [
      "root\n",
      " |-- title: string (nullable = true)\n",
      " |-- author: string (nullable = true)\n",
      " |-- genre: string (nullable = true)\n",
      " |-- sales: integer (nullable = true)\n",
      " |-- year: integer (nullable = true)\n",
      "\n"
     ]
    }
   ],
   "source": [
    "df1.printSchema()"
   ]
  },
  {
   "cell_type": "code",
   "execution_count": null,
   "id": "762663d8",
   "metadata": {},
   "outputs": [],
   "source": [
    "# — Фильтруйте данные, чтобы оставить только книги, продажи которых превышают 3000 экземпляров."
   ]
  },
  {
   "cell_type": "code",
   "execution_count": 54,
   "id": "e74af801",
   "metadata": {},
   "outputs": [
    {
     "name": "stdout",
     "output_type": "stream",
     "text": [
      "+--------------------+-------------------+---------------+-----+----+\n",
      "|               title|             author|          genre|sales|year|\n",
      "+--------------------+-------------------+---------------+-----+----+\n",
      "|                1984|      George Orwell|Science Fiction| 5000|1949|\n",
      "|To Kill a Mocking...|         Harper Lee|Southern Gothic| 4000|1960|\n",
      "|    The Great Gatsby|F. Scott Fitzgerald|          Novel| 4500|1925|\n",
      "+--------------------+-------------------+---------------+-----+----+\n",
      "\n"
     ]
    }
   ],
   "source": [
    "sales_treshold_min = 3_000\n",
    "df1.filter(col('sales') > sales_treshold_min).show()"
   ]
  },
  {
   "cell_type": "code",
   "execution_count": 71,
   "id": "9a2ae866",
   "metadata": {},
   "outputs": [
    {
     "name": "stdout",
     "output_type": "stream",
     "text": [
      "+---------------+--------------+--------+\n",
      "|          genre|sales_by_genre|max_year|\n",
      "+---------------+--------------+--------+\n",
      "|Southern Gothic|        4000.0|    1960|\n",
      "|          Novel|        3250.0|    1951|\n",
      "|        Fantasy|        3000.0|    1954|\n",
      "|Science Fiction|        5000.0|    1949|\n",
      "+---------------+--------------+--------+\n",
      "\n"
     ]
    }
   ],
   "source": [
    "# — Сгруппируйте данные по жанру и вычислите общий объем продаж для каждого жанра.\n",
    "df1.groupBy('genre').agg(F.avg('sales').alias('sales_by_genre'), F.max('year').alias('max_year')).show()"
   ]
  },
  {
   "cell_type": "code",
   "execution_count": 75,
   "id": "c241cc1b",
   "metadata": {},
   "outputs": [
    {
     "name": "stdout",
     "output_type": "stream",
     "text": [
      "+--------------------+-------------------+---------------+-----+----+\n",
      "|               title|             author|          genre|sales|year|\n",
      "+--------------------+-------------------+---------------+-----+----+\n",
      "|                1984|      George Orwell|Science Fiction| 5000|1949|\n",
      "|    The Great Gatsby|F. Scott Fitzgerald|          Novel| 4500|1925|\n",
      "|To Kill a Mocking...|         Harper Lee|Southern Gothic| 4000|1960|\n",
      "|The Lord of the R...|     J.R.R. Tolkien|        Fantasy| 3000|1954|\n",
      "|The Catcher in th...|      J.D. Salinger|          Novel| 2000|1951|\n",
      "+--------------------+-------------------+---------------+-----+----+\n",
      "\n"
     ]
    }
   ],
   "source": [
    "# — Отсортируйте данные по общему объему продаж в порядке убывания.\n",
    "df1.sort(col('sales').desc()).show()"
   ]
  },
  {
   "cell_type": "code",
   "execution_count": null,
   "id": "a4e98dac",
   "metadata": {},
   "outputs": [],
   "source": []
  }
 ],
 "metadata": {
  "kernelspec": {
   "display_name": "Python 3 (ipykernel)",
   "language": "python",
   "name": "python3"
  },
  "language_info": {
   "codemirror_mode": {
    "name": "ipython",
    "version": 3
   },
   "file_extension": ".py",
   "mimetype": "text/x-python",
   "name": "python",
   "nbconvert_exporter": "python",
   "pygments_lexer": "ipython3",
   "version": "3.7.3"
  }
 },
 "nbformat": 4,
 "nbformat_minor": 5
}
