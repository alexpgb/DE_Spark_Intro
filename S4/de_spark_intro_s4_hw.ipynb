{
 "cells": [
  {
   "cell_type": "code",
   "execution_count": 1,
   "id": "4d08b7fd",
   "metadata": {},
   "outputs": [],
   "source": [
    "# Условие: \n",
    "# используйте источник rate, напишите код, который создаст дополнительный столбец, \n",
    "# который будет выводить сумму только нечётных чисел."
   ]
  },
  {
   "cell_type": "code",
   "execution_count": 43,
   "id": "b4b8daa6",
   "metadata": {},
   "outputs": [],
   "source": [
    "from pyspark.sql import SparkSession\n",
    "from pyspark.sql.functions import col, expr, monotonically_increasing_id, collect_list, lit"
   ]
  },
  {
   "cell_type": "code",
   "execution_count": 3,
   "id": "46e32d92",
   "metadata": {},
   "outputs": [
    {
     "name": "stderr",
     "output_type": "stream",
     "text": [
      "24/04/26 17:07:27 WARN NativeCodeLoader: Unable to load native-hadoop library for your platform... using builtin-java classes where applicable\n",
      "Using Spark's default log4j profile: org/apache/spark/log4j-defaults.properties\n",
      "Setting default log level to \"WARN\".\n",
      "To adjust logging level use sc.setLogLevel(newLevel). For SparkR, use setLogLevel(newLevel).\n"
     ]
    }
   ],
   "source": [
    "spark = SparkSession.builder.appName('Seminar#4-hw').getOrCreate()"
   ]
  },
  {
   "cell_type": "code",
   "execution_count": 4,
   "id": "512ea5da",
   "metadata": {},
   "outputs": [],
   "source": [
    "streaming_df = spark.readStream.format('rate').option(\"rowsPerSecond\", 1).load()"
   ]
  },
  {
   "cell_type": "code",
   "execution_count": 8,
   "id": "ffa26e16",
   "metadata": {},
   "outputs": [
    {
     "name": "stderr",
     "output_type": "stream",
     "text": [
      "24/04/26 17:10:59 WARN StreamingQueryManager: Temporary checkpoint location created which is deleted normally when the query didn't fail: /tmp/temporary-769bda49-5ffc-4077-9355-10513dba4469. If it's required to delete it under any circumstances, please set spark.sql.streaming.forceDeleteTempCheckpointLocation to true. Important to know deleting temp checkpoint folder is best effort.\n"
     ]
    },
    {
     "name": "stdout",
     "output_type": "stream",
     "text": [
      "-------------------------------------------\n",
      "Batch: 0\n",
      "-------------------------------------------\n",
      "+---------+-----+---------------+\n",
      "|timestamp|value|odd_values_list|\n",
      "+---------+-----+---------------+\n",
      "|     null| null|             []|\n",
      "+---------+-----+---------------+\n",
      "\n",
      "-------------------------------------------\n",
      "Batch: 1\n",
      "-------------------------------------------\n",
      "+--------------------+-----+---------------+\n",
      "|           timestamp|value|odd_values_list|\n",
      "+--------------------+-----+---------------+\n",
      "|2024-04-26 17:10:...|    0|             []|\n",
      "+--------------------+-----+---------------+\n",
      "\n",
      "-------------------------------------------\n",
      "Batch: 2\n",
      "-------------------------------------------\n",
      "+--------------------+-----+---------------+\n",
      "|           timestamp|value|odd_values_list|\n",
      "+--------------------+-----+---------------+\n",
      "|2024-04-26 17:11:...|    1|            [1]|\n",
      "+--------------------+-----+---------------+\n",
      "\n",
      "-------------------------------------------\n",
      "Batch: 3\n",
      "-------------------------------------------\n",
      "+--------------------+-----+---------------+\n",
      "|           timestamp|value|odd_values_list|\n",
      "+--------------------+-----+---------------+\n",
      "|2024-04-26 17:11:...|    2|            [1]|\n",
      "+--------------------+-----+---------------+\n",
      "\n",
      "-------------------------------------------\n",
      "Batch: 4\n",
      "-------------------------------------------\n",
      "+--------------------+-----+---------------+\n",
      "|           timestamp|value|odd_values_list|\n",
      "+--------------------+-----+---------------+\n",
      "|2024-04-26 17:11:...|    3|         [1, 3]|\n",
      "+--------------------+-----+---------------+\n",
      "\n",
      "-------------------------------------------\n",
      "Batch: 5\n",
      "-------------------------------------------\n",
      "+--------------------+-----+---------------+\n",
      "|           timestamp|value|odd_values_list|\n",
      "+--------------------+-----+---------------+\n",
      "|2024-04-26 17:11:...|    4|         [1, 3]|\n",
      "+--------------------+-----+---------------+\n",
      "\n",
      "-------------------------------------------\n",
      "Batch: 6\n",
      "-------------------------------------------\n",
      "+--------------------+-----+---------------+\n",
      "|           timestamp|value|odd_values_list|\n",
      "+--------------------+-----+---------------+\n",
      "|2024-04-26 17:11:...|    5|      [1, 3, 5]|\n",
      "+--------------------+-----+---------------+\n",
      "\n",
      "-------------------------------------------\n",
      "Batch: 7\n",
      "-------------------------------------------\n",
      "+--------------------+-----+---------------+\n",
      "|           timestamp|value|odd_values_list|\n",
      "+--------------------+-----+---------------+\n",
      "|2024-04-26 17:11:...|    6|      [1, 3, 5]|\n",
      "+--------------------+-----+---------------+\n",
      "\n",
      "-------------------------------------------\n",
      "Batch: 8\n",
      "-------------------------------------------\n",
      "+--------------------+-----+---------------+\n",
      "|           timestamp|value|odd_values_list|\n",
      "+--------------------+-----+---------------+\n",
      "|2024-04-26 17:11:...|    7|   [1, 3, 5, 7]|\n",
      "+--------------------+-----+---------------+\n",
      "\n",
      "-------------------------------------------\n",
      "Batch: 9\n",
      "-------------------------------------------\n",
      "+--------------------+-----+---------------+\n",
      "|           timestamp|value|odd_values_list|\n",
      "+--------------------+-----+---------------+\n",
      "|2024-04-26 17:11:...|    8|   [1, 3, 5, 7]|\n",
      "+--------------------+-----+---------------+\n",
      "\n"
     ]
    }
   ],
   "source": [
    "# Покажем, что действительно выбираются только нечетные числа в отдельный столбец, при этом отдельные отсчеты не пропускаются.\n",
    "df_sum_odd = streaming_df.selectExpr('max(timestamp) as timestamp', 'max(value) as value','filter(collect_list(value), x -> x % 2 > 0) as odd_values_list')\n",
    "query = df_sum_odd.writeStream.outputMode('update').format('console').start()\n",
    "query.awaitTermination(10)\n",
    "query.stop()"
   ]
  },
  {
   "cell_type": "code",
   "execution_count": 44,
   "id": "e95af477",
   "metadata": {},
   "outputs": [
    {
     "name": "stderr",
     "output_type": "stream",
     "text": [
      "24/04/26 19:17:08 WARN StreamingQueryManager: Temporary checkpoint location created which is deleted normally when the query didn't fail: /tmp/temporary-a2a8e573-ecf2-474b-85f3-38e805821c97. If it's required to delete it under any circumstances, please set spark.sql.streaming.forceDeleteTempCheckpointLocation to true. Important to know deleting temp checkpoint folder is best effort.\n"
     ]
    },
    {
     "name": "stdout",
     "output_type": "stream",
     "text": [
      "-------------------------------------------\n",
      "Batch: 0\n",
      "-------------------------------------------\n",
      "+---------+-----+----------+-------+\n",
      "|timestamp|value|odd_values|sum_odd|\n",
      "+---------+-----+----------+-------+\n",
      "|     null| null|        []|      0|\n",
      "+---------+-----+----------+-------+\n",
      "\n",
      "-------------------------------------------\n",
      "Batch: 1\n",
      "-------------------------------------------\n",
      "+--------------------+-----+----------+-------+\n",
      "|           timestamp|value|odd_values|sum_odd|\n",
      "+--------------------+-----+----------+-------+\n",
      "|2024-04-26 19:17:...|    0|        []|      0|\n",
      "+--------------------+-----+----------+-------+\n",
      "\n",
      "-------------------------------------------\n",
      "Batch: 2\n",
      "-------------------------------------------\n",
      "+--------------------+-----+----------+-------+\n",
      "|           timestamp|value|odd_values|sum_odd|\n",
      "+--------------------+-----+----------+-------+\n",
      "|2024-04-26 19:17:...|    1|       [1]|      1|\n",
      "+--------------------+-----+----------+-------+\n",
      "\n",
      "-------------------------------------------\n",
      "Batch: 3\n",
      "-------------------------------------------\n",
      "+--------------------+-----+----------+-------+\n",
      "|           timestamp|value|odd_values|sum_odd|\n",
      "+--------------------+-----+----------+-------+\n",
      "|2024-04-26 19:17:...|    2|       [1]|      1|\n",
      "+--------------------+-----+----------+-------+\n",
      "\n",
      "-------------------------------------------\n",
      "Batch: 4\n",
      "-------------------------------------------\n",
      "+--------------------+-----+----------+-------+\n",
      "|           timestamp|value|odd_values|sum_odd|\n",
      "+--------------------+-----+----------+-------+\n",
      "|2024-04-26 19:17:...|    3|    [1, 3]|      4|\n",
      "+--------------------+-----+----------+-------+\n",
      "\n",
      "-------------------------------------------\n",
      "Batch: 5\n",
      "-------------------------------------------\n",
      "+--------------------+-----+----------+-------+\n",
      "|           timestamp|value|odd_values|sum_odd|\n",
      "+--------------------+-----+----------+-------+\n",
      "|2024-04-26 19:17:...|    4|    [1, 3]|      4|\n",
      "+--------------------+-----+----------+-------+\n",
      "\n",
      "-------------------------------------------\n",
      "Batch: 6\n",
      "-------------------------------------------\n",
      "+--------------------+-----+----------+-------+\n",
      "|           timestamp|value|odd_values|sum_odd|\n",
      "+--------------------+-----+----------+-------+\n",
      "|2024-04-26 19:17:...|    5| [1, 3, 5]|      9|\n",
      "+--------------------+-----+----------+-------+\n",
      "\n",
      "-------------------------------------------\n",
      "Batch: 7\n",
      "-------------------------------------------\n",
      "+--------------------+-----+----------+-------+\n",
      "|           timestamp|value|odd_values|sum_odd|\n",
      "+--------------------+-----+----------+-------+\n",
      "|2024-04-26 19:17:...|    6| [1, 3, 5]|      9|\n",
      "+--------------------+-----+----------+-------+\n",
      "\n",
      "-------------------------------------------\n",
      "Batch: 8\n",
      "-------------------------------------------\n",
      "+--------------------+-----+------------+-------+\n",
      "|           timestamp|value|  odd_values|sum_odd|\n",
      "+--------------------+-----+------------+-------+\n",
      "|2024-04-26 19:17:...|    7|[1, 3, 5, 7]|     16|\n",
      "+--------------------+-----+------------+-------+\n",
      "\n",
      "-------------------------------------------\n",
      "Batch: 9\n",
      "-------------------------------------------\n",
      "+--------------------+-----+------------+-------+\n",
      "|           timestamp|value|  odd_values|sum_odd|\n",
      "+--------------------+-----+------------+-------+\n",
      "|2024-04-26 19:17:...|    8|[1, 3, 5, 7]|     16|\n",
      "+--------------------+-----+------------+-------+\n",
      "\n"
     ]
    }
   ],
   "source": [
    "#  Вывод только суммы нечетных чисел\n",
    "df_sum_odd = \\\n",
    "    streaming_df.selectExpr('max(timestamp) as timestamp', 'max(value) as value','filter(collect_list(value), x -> x % 2 > 0) as odd_values').\\\n",
    "    selectExpr('*','aggregate(odd_values, bigint(0), (x, y) -> (x) + (y)) as sum_odd')\n",
    "query = df_sum_odd.writeStream.outputMode('update').format('console').start()\n",
    "query.awaitTermination(10)\n",
    "query.stop()"
   ]
  },
  {
   "cell_type": "code",
   "execution_count": null,
   "id": "30f31ad4",
   "metadata": {},
   "outputs": [],
   "source": []
  }
 ],
 "metadata": {
  "kernelspec": {
   "display_name": "Python 3 (ipykernel)",
   "language": "python",
   "name": "python3"
  },
  "language_info": {
   "codemirror_mode": {
    "name": "ipython",
    "version": 3
   },
   "file_extension": ".py",
   "mimetype": "text/x-python",
   "name": "python",
   "nbconvert_exporter": "python",
   "pygments_lexer": "ipython3",
   "version": "3.7.3"
  }
 },
 "nbformat": 4,
 "nbformat_minor": 5
}
