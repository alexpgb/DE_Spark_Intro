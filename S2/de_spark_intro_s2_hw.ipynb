{
 "cells": [
  {
   "cell_type": "code",
   "execution_count": 3,
   "id": "3b5ac69f",
   "metadata": {},
   "outputs": [],
   "source": [
    "### Домашнее задание\n",
    "### Условие: \n",
    "дана таблица с колонками (id, name, salary, managerId), \n",
    "студентам необходимо написать код на spark, который создаст эту таблицу (данные указаны ниже) \n",
    "и в результате выдаст таблицу в которой будут имена сотрудников, которые зарабатывают больше своих менеджеров."
   ]
  },
  {
   "cell_type": "code",
   "execution_count": 1,
   "id": "258e9c78",
   "metadata": {},
   "outputs": [],
   "source": [
    "import pandas as pd\n",
    "from pprint import pprint\n",
    "import pyspark"
   ]
  },
  {
   "cell_type": "code",
   "execution_count": 2,
   "id": "74d2bec6",
   "metadata": {},
   "outputs": [],
   "source": [
    "# from pyspark import SparkContext\n",
    "from pyspark.sql import SparkSession\n",
    "from pyspark.sql.functions import sum, avg, when, max, month"
   ]
  },
  {
   "cell_type": "code",
   "execution_count": 3,
   "id": "ec492024",
   "metadata": {},
   "outputs": [
    {
     "data": {
      "text/html": [
       "<div>\n",
       "<style scoped>\n",
       "    .dataframe tbody tr th:only-of-type {\n",
       "        vertical-align: middle;\n",
       "    }\n",
       "\n",
       "    .dataframe tbody tr th {\n",
       "        vertical-align: top;\n",
       "    }\n",
       "\n",
       "    .dataframe thead th {\n",
       "        text-align: right;\n",
       "    }\n",
       "</style>\n",
       "<table border=\"1\" class=\"dataframe\">\n",
       "  <thead>\n",
       "    <tr style=\"text-align: right;\">\n",
       "      <th></th>\n",
       "      <th>id</th>\n",
       "      <th>Name</th>\n",
       "      <th>Salary</th>\n",
       "      <th>ManagerId</th>\n",
       "    </tr>\n",
       "  </thead>\n",
       "  <tbody>\n",
       "    <tr>\n",
       "      <th>0</th>\n",
       "      <td>1</td>\n",
       "      <td>Joe</td>\n",
       "      <td>70</td>\n",
       "      <td>3</td>\n",
       "    </tr>\n",
       "    <tr>\n",
       "      <th>1</th>\n",
       "      <td>2</td>\n",
       "      <td>Henry</td>\n",
       "      <td>80</td>\n",
       "      <td>4</td>\n",
       "    </tr>\n",
       "    <tr>\n",
       "      <th>2</th>\n",
       "      <td>3</td>\n",
       "      <td>Sam</td>\n",
       "      <td>60</td>\n",
       "      <td>Null</td>\n",
       "    </tr>\n",
       "    <tr>\n",
       "      <th>3</th>\n",
       "      <td>4</td>\n",
       "      <td>Max</td>\n",
       "      <td>90</td>\n",
       "      <td>Null</td>\n",
       "    </tr>\n",
       "  </tbody>\n",
       "</table>\n",
       "</div>"
      ],
      "text/plain": [
       "   id   Name Salary ManagerId\n",
       "0   1    Joe     70         3\n",
       "1   2  Henry     80         4\n",
       "2   3    Sam     60      Null\n",
       "3   4    Max     90      Null"
      ]
     },
     "execution_count": 3,
     "metadata": {},
     "output_type": "execute_result"
    }
   ],
   "source": [
    "data = {'id': [1, 2, 3, 4], 'Name': ['Joe', 'Henry', 'Sam', 'Max'],\n",
    "        'Salary':['70', '80', '60', '90'], 'ManagerId':['3', '4', 'Null', 'Null']}\n",
    "pd_dataframe = pd.DataFrame(data)\n",
    "pd_dataframe"
   ]
  },
  {
   "cell_type": "code",
   "execution_count": 4,
   "id": "cc694fed",
   "metadata": {},
   "outputs": [
    {
     "name": "stderr",
     "output_type": "stream",
     "text": [
      "24/04/14 06:39:08 WARN NativeCodeLoader: Unable to load native-hadoop library for your platform... using builtin-java classes where applicable\n",
      "Using Spark's default log4j profile: org/apache/spark/log4j-defaults.properties\n",
      "Setting default log level to \"WARN\".\n",
      "To adjust logging level use sc.setLogLevel(newLevel). For SparkR, use setLogLevel(newLevel).\n"
     ]
    }
   ],
   "source": [
    "spark = SparkSession.builder.appName('HomeWork#2').getOrCreate()"
   ]
  },
  {
   "cell_type": "code",
   "execution_count": 39,
   "id": "223e32f9",
   "metadata": {},
   "outputs": [],
   "source": [
    "df = spark.createDataFrame(pd_dataframe)"
   ]
  },
  {
   "cell_type": "code",
   "execution_count": 40,
   "id": "09b8d967",
   "metadata": {},
   "outputs": [
    {
     "name": "stdout",
     "output_type": "stream",
     "text": [
      "+---+-----+------+---------+\n",
      "| id| Name|Salary|ManagerId|\n",
      "+---+-----+------+---------+\n",
      "|  1|  Joe|    70|        3|\n",
      "|  2|Henry|    80|        4|\n",
      "|  3|  Sam|    60|     Null|\n",
      "|  4|  Max|    90|     Null|\n",
      "+---+-----+------+---------+\n",
      "\n"
     ]
    }
   ],
   "source": [
    "df.show()"
   ]
  },
  {
   "cell_type": "code",
   "execution_count": 41,
   "id": "fdcab37e",
   "metadata": {},
   "outputs": [],
   "source": [
    "df = df.withColumn('Salary', df['Salary'].cast('int'))"
   ]
  },
  {
   "cell_type": "code",
   "execution_count": 42,
   "id": "8ac7659a",
   "metadata": {},
   "outputs": [],
   "source": [
    "df = df.withColumn('ManagerId', df['ManagerId'].cast('int'))"
   ]
  },
  {
   "cell_type": "code",
   "execution_count": 43,
   "id": "175dbe53",
   "metadata": {},
   "outputs": [
    {
     "name": "stdout",
     "output_type": "stream",
     "text": [
      "root\n",
      " |-- id: long (nullable = true)\n",
      " |-- Name: string (nullable = true)\n",
      " |-- Salary: integer (nullable = true)\n",
      " |-- ManagerId: integer (nullable = true)\n",
      "\n"
     ]
    }
   ],
   "source": [
    "df.printSchema()"
   ]
  },
  {
   "cell_type": "code",
   "execution_count": 44,
   "id": "316ed6bf",
   "metadata": {},
   "outputs": [
    {
     "name": "stdout",
     "output_type": "stream",
     "text": [
      "+-----+-------------+\n",
      "|Mgrid|ManagerSalary|\n",
      "+-----+-------------+\n",
      "|    3|           60|\n",
      "|    4|           90|\n",
      "+-----+-------------+\n",
      "\n"
     ]
    }
   ],
   "source": [
    "df_manager_salary = \\\n",
    "    df.filter(df.ManagerId.isNull()).withColumnRenamed('Salary', 'ManagerSalary')\\\n",
    "    ['id', 'ManagerSalary'] \\\n",
    "    .withColumnRenamed('id', 'Mgrid')\n",
    "df_manager_salary.show()"
   ]
  },
  {
   "cell_type": "code",
   "execution_count": 45,
   "id": "5cd43e62",
   "metadata": {},
   "outputs": [
    {
     "name": "stderr",
     "output_type": "stream",
     "text": [
      "                                                                                \r"
     ]
    },
    {
     "name": "stdout",
     "output_type": "stream",
     "text": [
      "+---+-----+------+---------+-------------+\n",
      "| id| Name|Salary|ManagerId|ManagerSalary|\n",
      "+---+-----+------+---------+-------------+\n",
      "|  3|  Sam|    60|     null|         null|\n",
      "|  4|  Max|    90|     null|         null|\n",
      "|  1|  Joe|    70|        3|           60|\n",
      "|  2|Henry|    80|        4|           90|\n",
      "+---+-----+------+---------+-------------+\n",
      "\n"
     ]
    }
   ],
   "source": [
    "df = df.join(df_manager_salary, df.ManagerId == df_manager_salary.Mgrid, 'left').drop('Mgrid')\n",
    "df.show()"
   ]
  },
  {
   "cell_type": "code",
   "execution_count": 49,
   "id": "08bbe0e4",
   "metadata": {},
   "outputs": [
    {
     "name": "stdout",
     "output_type": "stream",
     "text": [
      "+----+\n",
      "|Name|\n",
      "+----+\n",
      "| Joe|\n",
      "+----+\n",
      "\n"
     ]
    }
   ],
   "source": [
    "df.filter((df.ManagerId.isNotNull()) & (df.Salary > df.ManagerSalary)).select('Name').show()"
   ]
  }
 ],
 "metadata": {
  "kernelspec": {
   "display_name": "Python 3 (ipykernel)",
   "language": "python",
   "name": "python3"
  },
  "language_info": {
   "codemirror_mode": {
    "name": "ipython",
    "version": 3
   },
   "file_extension": ".py",
   "mimetype": "text/x-python",
   "name": "python",
   "nbconvert_exporter": "python",
   "pygments_lexer": "ipython3",
   "version": "3.7.3"
  }
 },
 "nbformat": 4,
 "nbformat_minor": 5
}
